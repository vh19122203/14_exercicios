{
 "cells": [
  {
   "cell_type": "code",
   "execution_count": 1,
   "id": "d1ee36cb-a286-46b6-ae3a-e2470a53d282",
   "metadata": {},
   "outputs": [
    {
     "name": "stdout",
     "output_type": "stream",
     "text": [
      "A soma de 10 e 30 é: 40\n"
     ]
    }
   ],
   "source": [
    "#ex1\n",
    "num1 = 10  \n",
    "num2 = 30 \n",
    "\n",
    "soma = num1 + num2 \n",
    "\n",
    "print(\"A soma de\", num1, \"e\", num2, \"é:\", soma) \n"
   ]
  },
  {
   "cell_type": "code",
   "execution_count": 2,
   "id": "828119c3-2c68-40a7-8d2b-b3094f62310f",
   "metadata": {},
   "outputs": [
    {
     "name": "stdout",
     "output_type": "stream",
     "text": [
      "O resultado da multiplicação é: 300\n"
     ]
    }
   ],
   "source": [
    "# ex2\n",
    "num1 = 10  \n",
    "num2 = 30    \n",
    "\n",
    "\n",
    "resultado = num1 * num2\n",
    "\n",
    "# Exibindo o resultado\n",
    "print(\"O resultado da multiplicação é:\", resultado)\n"
   ]
  },
  {
   "cell_type": "code",
   "execution_count": 3,
   "id": "f9c66d43-29aa-424f-b044-7d18ed7a3d95",
   "metadata": {},
   "outputs": [
    {
     "name": "stdout",
     "output_type": "stream",
     "text": [
      "A média das notas é: 8.166666666666666\n"
     ]
    }
   ],
   "source": [
    "\n",
    "nota1 = 7.5  \n",
    "nota2 = 8.0  \n",
    "nota3 = 9.0  \n",
    "\n",
    "media = (nota1 + nota2 + nota3) / 3\n",
    "\n",
    "print(\"A média das notas é:\", media)\n"
   ]
  },
  {
   "cell_type": "code",
   "execution_count": 4,
   "id": "9af209b9-5e58-45ea-ac95-02bc191037a2",
   "metadata": {},
   "outputs": [
    {
     "name": "stdin",
     "output_type": "stream",
     "text": [
      "Digite um número:  1\n"
     ]
    },
    {
     "name": "stdout",
     "output_type": "stream",
     "text": [
      "O número 1.0 é positivo.\n"
     ]
    }
   ],
   "source": [
    "# ex4 \n",
    "num1 = float(input(\"Digite um número: \"))\n",
    "\n",
    "if num1 > 0:\n",
    "    print(f\"O número {num1} é positivo.\")\n",
    "elif num1 < 0:\n",
    "    print(f\"O número {num1} é negativo.\")\n",
    "else:\n",
    "    print(f\"O número {num1} é zero.\")\n"
   ]
  },
  {
   "cell_type": "code",
   "execution_count": 5,
   "id": "98f97626-7752-4f34-b352-c5066b5b56c2",
   "metadata": {},
   "outputs": [
    {
     "name": "stdin",
     "output_type": "stream",
     "text": [
      "Digite um número:  5\n"
     ]
    },
    {
     "name": "stdout",
     "output_type": "stream",
     "text": [
      "O número 5 é ímpar.\n"
     ]
    }
   ],
   "source": [
    "# ex5\n",
    "num2 = int(input(\"Digite um número: \"))\n",
    "\n",
    "\n",
    "if num2 % 2 == 0:\n",
    "    print(f\"O número {num2} é par.\")\n",
    "else:\n",
    "    print(f\"O número {num2} é ímpar.\")\n"
   ]
  },
  {
   "cell_type": "code",
   "execution_count": 6,
   "id": "9e55ae93-ec76-445d-92c1-13d916b656d2",
   "metadata": {},
   "outputs": [
    {
     "name": "stdout",
     "output_type": "stream",
     "text": [
      "Aprovado! Média: 6.333333333333333\n"
     ]
    }
   ],
   "source": [
    "# ex6\n",
    "nota1 = 7.5  \n",
    "nota2 = 5.5 \n",
    "nota3 = 6.0  \n",
    "\n",
    "\n",
    "media = (nota1 + nota2 + nota3) / 3\n",
    "\n",
    "\n",
    "if media >= 6.0:\n",
    "    print(f\"Aprovado! Média: {media}\")\n",
    "elif 4.0 <= media < 6.0:\n",
    "    print(f\"Em recuperação. Média: {media}\")\n",
    "else:\n",
    "    print(f\"Reprovado. Média: {media}\")\n"
   ]
  },
  {
   "cell_type": "code",
   "execution_count": 7,
   "id": "95f1f8c6-3228-43a5-bc2a-93531e105377",
   "metadata": {},
   "outputs": [
    {
     "name": "stdin",
     "output_type": "stream",
     "text": [
      "Digite a idade:  15\n"
     ]
    },
    {
     "name": "stdout",
     "output_type": "stream",
     "text": [
      "A pessoa é um Adolescente. Idade: 15 anos.\n"
     ]
    }
   ],
   "source": [
    "# ex7\n",
    "idade = int(input(\"Digite a idade: \"))\n",
    "\n",
    "\n",
    "if idade < 12:\n",
    "    print(f\"A pessoa é uma Criança. Idade: {idade} anos.\")\n",
    "elif 12 <= idade < 18:\n",
    "    print(f\"A pessoa é um Adolescente. Idade: {idade} anos.\")\n",
    "elif 18 <= idade < 60:\n",
    "    print(f\"A pessoa é um Adulto. Idade: {idade} anos.\")\n",
    "else:\n",
    "    print(f\"A pessoa é um Idoso. Idade: {idade} anos.\")\n"
   ]
  },
  {
   "cell_type": "code",
   "execution_count": 8,
   "id": "4e2fa9a1-9e21-48bb-a93b-267af41aae36",
   "metadata": {},
   "outputs": [
    {
     "name": "stdout",
     "output_type": "stream",
     "text": [
      "1\n",
      "2\n",
      "3\n",
      "4\n",
      "5\n",
      "6\n",
      "7\n",
      "8\n",
      "9\n",
      "10\n"
     ]
    }
   ],
   "source": [
    "# ex8\n",
    "numero = 1\n",
    "\n",
    "\n",
    "while numero <= 10:\n",
    "    print(numero)\n",
    "    numero += 1  \n",
    "    \n"
   ]
  },
  {
   "cell_type": "code",
   "execution_count": 10,
   "id": "e991f316-aaee-40c0-9aed-bf4c883761d2",
   "metadata": {},
   "outputs": [
    {
     "name": "stdout",
     "output_type": "stream",
     "text": [
      "1\n",
      "2\n",
      "3\n",
      "4\n",
      "5\n",
      "6\n",
      "7\n",
      "8\n",
      "9\n",
      "10\n"
     ]
    }
   ],
   "source": [
    "#ex9\n",
    "for numero in range(1, 11):\n",
    "    print(numero)\n"
   ]
  },
  {
   "cell_type": "code",
   "execution_count": 11,
   "id": "b2a27ea6-f9ee-4c24-9ce6-6bb8a2040a6b",
   "metadata": {},
   "outputs": [
    {
     "name": "stdin",
     "output_type": "stream",
     "text": [
      "Digite um número para exibir sua tabuada:  10\n"
     ]
    },
    {
     "name": "stdout",
     "output_type": "stream",
     "text": [
      "Tabuada de 10:\n",
      "10 x 1 = 10\n",
      "10 x 2 = 20\n",
      "10 x 3 = 30\n",
      "10 x 4 = 40\n",
      "10 x 5 = 50\n",
      "10 x 6 = 60\n",
      "10 x 7 = 70\n",
      "10 x 8 = 80\n",
      "10 x 9 = 90\n",
      "10 x 10 = 100\n"
     ]
    }
   ],
   "source": [
    "\n",
    "num1 = int(input(\"Digite um número para exibir sua tabuada: \"))\n",
    "\n",
    "# Exibindo a tabuada de num1\n",
    "print(f\"Tabuada de {num1}:\")\n",
    "for i in range(1, 11):\n",
    "    print(f\"{num1} x {i} = {num1 * i}\")\n"
   ]
  },
  {
   "cell_type": "code",
   "execution_count": 12,
   "id": "7a1b551c-1b02-4a75-adb9-c43d56717bbb",
   "metadata": {},
   "outputs": [
    {
     "name": "stdout",
     "output_type": "stream",
     "text": [
      "0\n",
      "10\n",
      "20\n",
      "30\n",
      "40\n",
      "50\n",
      "60\n",
      "70\n",
      "80\n",
      "90\n",
      "100\n"
     ]
    }
   ],
   "source": [
    "#ex 11\n",
    "\n",
    "numero = 0\n",
    "\n",
    "while numero <= 100:\n",
    "    print(numero)\n",
    "    numero += 10  \n"
   ]
  },
  {
   "cell_type": "code",
   "execution_count": 14,
   "id": "22c27ee5-66af-435f-8151-9be01b60d3a5",
   "metadata": {},
   "outputs": [
    {
     "name": "stdout",
     "output_type": "stream",
     "text": [
      "0\n",
      "2\n",
      "4\n",
      "6\n",
      "8\n",
      "10\n",
      "12\n",
      "14\n",
      "16\n",
      "18\n",
      "20\n"
     ]
    }
   ],
   "source": [
    "\n",
    "for numero in range(0, 21, 2):\n",
    "    print(numero)\n"
   ]
  },
  {
   "cell_type": "code",
   "execution_count": 16,
   "id": "456c49ad-3b67-4e44-94ae-ce5e9bd2cf99",
   "metadata": {},
   "outputs": [
    {
     "name": "stdin",
     "output_type": "stream",
     "text": [
      "Digite a temperatura em Celsius:  25\n"
     ]
    },
    {
     "name": "stdout",
     "output_type": "stream",
     "text": [
      "25.0°C é igual a 77.0°F.\n"
     ]
    }
   ],
   "source": [
    "\n",
    "\n",
    "def celsius_para_fahrenheit(celsius):\n",
    "    fahrenheit = celsius * 1.8 + 32\n",
    "    return fahrenheit\n",
    "\n",
    "celsius = float(input(\"Digite a temperatura em Celsius: \"))\n",
    "fahrenheit = celsius_para_fahrenheit(celsius)\n",
    "\n",
    "\n",
    "print(f\"{celsius}°C é igual a {fahrenheit}°F.\")\n",
    "\n"
   ]
  },
  {
   "cell_type": "code",
   "execution_count": 18,
   "id": "8e0f9e18-c68d-4b26-817a-23b2bd59c404",
   "metadata": {},
   "outputs": [
    {
     "name": "stdin",
     "output_type": "stream",
     "text": [
      "Digite o primeiro número:  4\n",
      "Digite o segundo número:  4\n"
     ]
    },
    {
     "name": "stdout",
     "output_type": "stream",
     "text": [
      "Escolha:\n",
      "1 - Soma\n",
      "2 - Subtração\n",
      "3 - Multiplicação\n",
      "4 - Divisão\n"
     ]
    },
    {
     "name": "stdin",
     "output_type": "stream",
     "text": [
      "Digite o número da operação desejada:  soma\n"
     ]
    }
   ],
   "source": [
    "\n",
    "def calculadora():\n",
    "    \n",
    "    num1 = float(input(\"Digite o primeiro número: \"))\n",
    "    num2 = float(input(\"Digite o segundo número: \"))\n",
    "\n",
    "\n",
    "    print(\"Escolha:\")\n",
    "    print(\"1 - Soma\")\n",
    "    print(\"2 - Subtração\")\n",
    "    print(\"3 - Multiplicação\")\n",
    "    print(\"4 - Divisão\")\n",
    "    operacao = input(\"Digite o número da operação desejada: \")\n",
    "\n",
    "    \n",
    "    if operacao == '1':\n",
    "        resultado = num1 + num2\n",
    "        print(f\"{num1} + {num2} = {resultado}\")\n",
    "    elif operacao == '2':\n",
    "        resultado = num1 - num2\n",
    "        print(f\"{num1} - {num2} = {resultado}\")\n",
    "    elif operacao == '3':\n",
    "        resultado = num1 * num2\n",
    "        print(f\"{num1} * {num2} = {resultado}\")\n",
    "    elif operacao == '4':\n",
    "        # Verifica se o divisor é zero antes de realizar a divisão\n",
    "        if num2 == 0:\n",
    "            print(\"Erro: Não é possível dividir por zero.\")\n",
    "        else:\n",
    "            resultado = num1 / num2\n",
    "            print(f\"{num1} / {num2} = {resultado}\")\n",
    "\n",
    "calculadora()\n"
   ]
  },
  {
   "cell_type": "code",
   "execution_count": null,
   "id": "425763f0-78b7-4fbc-8069-ede7ed382181",
   "metadata": {},
   "outputs": [],
   "source": []
  }
 ],
 "metadata": {
  "kernelspec": {
   "display_name": "Python 3 (ipykernel)",
   "language": "python",
   "name": "python3"
  },
  "language_info": {
   "codemirror_mode": {
    "name": "ipython",
    "version": 3
   },
   "file_extension": ".py",
   "mimetype": "text/x-python",
   "name": "python",
   "nbconvert_exporter": "python",
   "pygments_lexer": "ipython3",
   "version": "3.12.7"
  }
 },
 "nbformat": 4,
 "nbformat_minor": 5
}
